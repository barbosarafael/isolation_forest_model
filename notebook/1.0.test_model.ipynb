{
 "cells": [
  {
   "cell_type": "markdown",
   "id": "f2c53e92-fa75-473d-a0dc-c9ec55166fe7",
   "metadata": {},
   "source": [
    "# Notebook com a aplicação do modelo "
   ]
  },
  {
   "cell_type": "code",
   "execution_count": 1,
   "id": "91fed2bc-1b36-49b2-a669-980bf089123e",
   "metadata": {},
   "outputs": [],
   "source": [
    "import pandas as pd\n",
    "import numpy as np "
   ]
  },
  {
   "cell_type": "code",
   "execution_count": 2,
   "id": "0b990c93-8097-4e19-ad12-7eeddc13a025",
   "metadata": {},
   "outputs": [
    {
     "data": {
      "text/html": [
       "<div>\n",
       "<style scoped>\n",
       "    .dataframe tbody tr th:only-of-type {\n",
       "        vertical-align: middle;\n",
       "    }\n",
       "\n",
       "    .dataframe tbody tr th {\n",
       "        vertical-align: top;\n",
       "    }\n",
       "\n",
       "    .dataframe thead th {\n",
       "        text-align: right;\n",
       "    }\n",
       "</style>\n",
       "<table border=\"1\" class=\"dataframe\">\n",
       "  <thead>\n",
       "    <tr style=\"text-align: right;\">\n",
       "      <th></th>\n",
       "      <th>Time</th>\n",
       "      <th>V1</th>\n",
       "      <th>V2</th>\n",
       "      <th>V3</th>\n",
       "      <th>V4</th>\n",
       "      <th>V5</th>\n",
       "      <th>V6</th>\n",
       "      <th>V7</th>\n",
       "      <th>V8</th>\n",
       "      <th>V9</th>\n",
       "      <th>...</th>\n",
       "      <th>V21</th>\n",
       "      <th>V22</th>\n",
       "      <th>V23</th>\n",
       "      <th>V24</th>\n",
       "      <th>V25</th>\n",
       "      <th>V26</th>\n",
       "      <th>V27</th>\n",
       "      <th>V28</th>\n",
       "      <th>Amount</th>\n",
       "      <th>Class</th>\n",
       "    </tr>\n",
       "  </thead>\n",
       "  <tbody>\n",
       "    <tr>\n",
       "      <th>0</th>\n",
       "      <td>0.0</td>\n",
       "      <td>-1.359807</td>\n",
       "      <td>-0.072781</td>\n",
       "      <td>2.536347</td>\n",
       "      <td>1.378155</td>\n",
       "      <td>-0.338321</td>\n",
       "      <td>0.462388</td>\n",
       "      <td>0.239599</td>\n",
       "      <td>0.098698</td>\n",
       "      <td>0.363787</td>\n",
       "      <td>...</td>\n",
       "      <td>-0.018307</td>\n",
       "      <td>0.277838</td>\n",
       "      <td>-0.110474</td>\n",
       "      <td>0.066928</td>\n",
       "      <td>0.128539</td>\n",
       "      <td>-0.189115</td>\n",
       "      <td>0.133558</td>\n",
       "      <td>-0.021053</td>\n",
       "      <td>149.62</td>\n",
       "      <td>0</td>\n",
       "    </tr>\n",
       "    <tr>\n",
       "      <th>1</th>\n",
       "      <td>0.0</td>\n",
       "      <td>1.191857</td>\n",
       "      <td>0.266151</td>\n",
       "      <td>0.166480</td>\n",
       "      <td>0.448154</td>\n",
       "      <td>0.060018</td>\n",
       "      <td>-0.082361</td>\n",
       "      <td>-0.078803</td>\n",
       "      <td>0.085102</td>\n",
       "      <td>-0.255425</td>\n",
       "      <td>...</td>\n",
       "      <td>-0.225775</td>\n",
       "      <td>-0.638672</td>\n",
       "      <td>0.101288</td>\n",
       "      <td>-0.339846</td>\n",
       "      <td>0.167170</td>\n",
       "      <td>0.125895</td>\n",
       "      <td>-0.008983</td>\n",
       "      <td>0.014724</td>\n",
       "      <td>2.69</td>\n",
       "      <td>0</td>\n",
       "    </tr>\n",
       "    <tr>\n",
       "      <th>2</th>\n",
       "      <td>1.0</td>\n",
       "      <td>-1.358354</td>\n",
       "      <td>-1.340163</td>\n",
       "      <td>1.773209</td>\n",
       "      <td>0.379780</td>\n",
       "      <td>-0.503198</td>\n",
       "      <td>1.800499</td>\n",
       "      <td>0.791461</td>\n",
       "      <td>0.247676</td>\n",
       "      <td>-1.514654</td>\n",
       "      <td>...</td>\n",
       "      <td>0.247998</td>\n",
       "      <td>0.771679</td>\n",
       "      <td>0.909412</td>\n",
       "      <td>-0.689281</td>\n",
       "      <td>-0.327642</td>\n",
       "      <td>-0.139097</td>\n",
       "      <td>-0.055353</td>\n",
       "      <td>-0.059752</td>\n",
       "      <td>378.66</td>\n",
       "      <td>0</td>\n",
       "    </tr>\n",
       "    <tr>\n",
       "      <th>3</th>\n",
       "      <td>1.0</td>\n",
       "      <td>-0.966272</td>\n",
       "      <td>-0.185226</td>\n",
       "      <td>1.792993</td>\n",
       "      <td>-0.863291</td>\n",
       "      <td>-0.010309</td>\n",
       "      <td>1.247203</td>\n",
       "      <td>0.237609</td>\n",
       "      <td>0.377436</td>\n",
       "      <td>-1.387024</td>\n",
       "      <td>...</td>\n",
       "      <td>-0.108300</td>\n",
       "      <td>0.005274</td>\n",
       "      <td>-0.190321</td>\n",
       "      <td>-1.175575</td>\n",
       "      <td>0.647376</td>\n",
       "      <td>-0.221929</td>\n",
       "      <td>0.062723</td>\n",
       "      <td>0.061458</td>\n",
       "      <td>123.50</td>\n",
       "      <td>0</td>\n",
       "    </tr>\n",
       "    <tr>\n",
       "      <th>4</th>\n",
       "      <td>2.0</td>\n",
       "      <td>-1.158233</td>\n",
       "      <td>0.877737</td>\n",
       "      <td>1.548718</td>\n",
       "      <td>0.403034</td>\n",
       "      <td>-0.407193</td>\n",
       "      <td>0.095921</td>\n",
       "      <td>0.592941</td>\n",
       "      <td>-0.270533</td>\n",
       "      <td>0.817739</td>\n",
       "      <td>...</td>\n",
       "      <td>-0.009431</td>\n",
       "      <td>0.798278</td>\n",
       "      <td>-0.137458</td>\n",
       "      <td>0.141267</td>\n",
       "      <td>-0.206010</td>\n",
       "      <td>0.502292</td>\n",
       "      <td>0.219422</td>\n",
       "      <td>0.215153</td>\n",
       "      <td>69.99</td>\n",
       "      <td>0</td>\n",
       "    </tr>\n",
       "  </tbody>\n",
       "</table>\n",
       "<p>5 rows × 31 columns</p>\n",
       "</div>"
      ],
      "text/plain": [
       "   Time        V1        V2        V3        V4        V5        V6        V7  \\\n",
       "0   0.0 -1.359807 -0.072781  2.536347  1.378155 -0.338321  0.462388  0.239599   \n",
       "1   0.0  1.191857  0.266151  0.166480  0.448154  0.060018 -0.082361 -0.078803   \n",
       "2   1.0 -1.358354 -1.340163  1.773209  0.379780 -0.503198  1.800499  0.791461   \n",
       "3   1.0 -0.966272 -0.185226  1.792993 -0.863291 -0.010309  1.247203  0.237609   \n",
       "4   2.0 -1.158233  0.877737  1.548718  0.403034 -0.407193  0.095921  0.592941   \n",
       "\n",
       "         V8        V9  ...       V21       V22       V23       V24       V25  \\\n",
       "0  0.098698  0.363787  ... -0.018307  0.277838 -0.110474  0.066928  0.128539   \n",
       "1  0.085102 -0.255425  ... -0.225775 -0.638672  0.101288 -0.339846  0.167170   \n",
       "2  0.247676 -1.514654  ...  0.247998  0.771679  0.909412 -0.689281 -0.327642   \n",
       "3  0.377436 -1.387024  ... -0.108300  0.005274 -0.190321 -1.175575  0.647376   \n",
       "4 -0.270533  0.817739  ... -0.009431  0.798278 -0.137458  0.141267 -0.206010   \n",
       "\n",
       "        V26       V27       V28  Amount  Class  \n",
       "0 -0.189115  0.133558 -0.021053  149.62      0  \n",
       "1  0.125895 -0.008983  0.014724    2.69      0  \n",
       "2 -0.139097 -0.055353 -0.059752  378.66      0  \n",
       "3 -0.221929  0.062723  0.061458  123.50      0  \n",
       "4  0.502292  0.219422  0.215153   69.99      0  \n",
       "\n",
       "[5 rows x 31 columns]"
      ]
     },
     "execution_count": 2,
     "metadata": {},
     "output_type": "execute_result"
    }
   ],
   "source": [
    "dados = pd.read_csv(\"../data/raw/creditcard.csv\")\n",
    "\n",
    "dados.head()"
   ]
  },
  {
   "cell_type": "code",
   "execution_count": 3,
   "id": "72dabc1c-bf6a-4659-a650-46dbff20dbd2",
   "metadata": {},
   "outputs": [
    {
     "data": {
      "text/plain": [
       "0    284315\n",
       "1       492\n",
       "Name: Class, dtype: int64"
      ]
     },
     "execution_count": 3,
     "metadata": {},
     "output_type": "execute_result"
    }
   ],
   "source": [
    "dados[\"Class\"].value_counts()"
   ]
  },
  {
   "cell_type": "code",
   "execution_count": 4,
   "id": "3a34c892-bf79-434b-b7ce-797d69c27514",
   "metadata": {},
   "outputs": [],
   "source": [
    "from sklearn.ensemble import IsolationForest\n",
    "from sklearn.model_selection import train_test_split\n",
    "from sklearn import set_config # Pipelines bisualmente bonitos\n",
    "from sklearn.metrics import classification_report, accuracy_score\n",
    "from sklearn.preprocessing import MinMaxScaler\n",
    "\n",
    "set_config(display = \"diagram\")"
   ]
  },
  {
   "cell_type": "code",
   "execution_count": 5,
   "id": "e1d6e8ef-5521-479d-899d-70812b596467",
   "metadata": {},
   "outputs": [],
   "source": [
    "X = dados.drop(\"Class\", axis = 1)\n",
    "\n",
    "y = dados[\"Class\"]\n",
    "\n",
    "x_train, x_test, y_train, y_test = train_test_split(X, y, test_size = 0.25, random_state = 1234, stratify = y)"
   ]
  },
  {
   "cell_type": "code",
   "execution_count": 6,
   "id": "d31efcd5-263e-42c1-8ed1-e8401598171f",
   "metadata": {},
   "outputs": [
    {
     "name": "stdout",
     "output_type": "stream",
     "text": [
      "(213605, 30) (213605,) (71202, 30) (71202,)\n"
     ]
    }
   ],
   "source": [
    "print(x_train.shape, y_train.shape, x_test.shape, y_test.shape)\n"
   ]
  },
  {
   "cell_type": "code",
   "execution_count": 7,
   "id": "e687aa46-7af2-4482-a0d9-d11527404822",
   "metadata": {},
   "outputs": [
    {
     "data": {
      "text/html": [
       "<style>#sk-947a1b12-2fb8-4096-a7a3-3a1af83114dd {color: black;background-color: white;}#sk-947a1b12-2fb8-4096-a7a3-3a1af83114dd pre{padding: 0;}#sk-947a1b12-2fb8-4096-a7a3-3a1af83114dd div.sk-toggleable {background-color: white;}#sk-947a1b12-2fb8-4096-a7a3-3a1af83114dd label.sk-toggleable__label {cursor: pointer;display: block;width: 100%;margin-bottom: 0;padding: 0.2em 0.3em;box-sizing: border-box;text-align: center;}#sk-947a1b12-2fb8-4096-a7a3-3a1af83114dd div.sk-toggleable__content {max-height: 0;max-width: 0;overflow: hidden;text-align: left;background-color: #f0f8ff;}#sk-947a1b12-2fb8-4096-a7a3-3a1af83114dd div.sk-toggleable__content pre {margin: 0.2em;color: black;border-radius: 0.25em;background-color: #f0f8ff;}#sk-947a1b12-2fb8-4096-a7a3-3a1af83114dd input.sk-toggleable__control:checked~div.sk-toggleable__content {max-height: 200px;max-width: 100%;overflow: auto;}#sk-947a1b12-2fb8-4096-a7a3-3a1af83114dd div.sk-estimator input.sk-toggleable__control:checked~label.sk-toggleable__label {background-color: #d4ebff;}#sk-947a1b12-2fb8-4096-a7a3-3a1af83114dd div.sk-label input.sk-toggleable__control:checked~label.sk-toggleable__label {background-color: #d4ebff;}#sk-947a1b12-2fb8-4096-a7a3-3a1af83114dd input.sk-hidden--visually {border: 0;clip: rect(1px 1px 1px 1px);clip: rect(1px, 1px, 1px, 1px);height: 1px;margin: -1px;overflow: hidden;padding: 0;position: absolute;width: 1px;}#sk-947a1b12-2fb8-4096-a7a3-3a1af83114dd div.sk-estimator {font-family: monospace;background-color: #f0f8ff;margin: 0.25em 0.25em;border: 1px dotted black;border-radius: 0.25em;box-sizing: border-box;}#sk-947a1b12-2fb8-4096-a7a3-3a1af83114dd div.sk-estimator:hover {background-color: #d4ebff;}#sk-947a1b12-2fb8-4096-a7a3-3a1af83114dd div.sk-parallel-item::after {content: \"\";width: 100%;border-bottom: 1px solid gray;flex-grow: 1;}#sk-947a1b12-2fb8-4096-a7a3-3a1af83114dd div.sk-label:hover label.sk-toggleable__label {background-color: #d4ebff;}#sk-947a1b12-2fb8-4096-a7a3-3a1af83114dd div.sk-serial::before {content: \"\";position: absolute;border-left: 1px solid gray;box-sizing: border-box;top: 2em;bottom: 0;left: 50%;}#sk-947a1b12-2fb8-4096-a7a3-3a1af83114dd div.sk-serial {display: flex;flex-direction: column;align-items: center;background-color: white;}#sk-947a1b12-2fb8-4096-a7a3-3a1af83114dd div.sk-item {z-index: 1;}#sk-947a1b12-2fb8-4096-a7a3-3a1af83114dd div.sk-parallel {display: flex;align-items: stretch;justify-content: center;background-color: white;}#sk-947a1b12-2fb8-4096-a7a3-3a1af83114dd div.sk-parallel-item {display: flex;flex-direction: column;position: relative;background-color: white;}#sk-947a1b12-2fb8-4096-a7a3-3a1af83114dd div.sk-parallel-item:first-child::after {align-self: flex-end;width: 50%;}#sk-947a1b12-2fb8-4096-a7a3-3a1af83114dd div.sk-parallel-item:last-child::after {align-self: flex-start;width: 50%;}#sk-947a1b12-2fb8-4096-a7a3-3a1af83114dd div.sk-parallel-item:only-child::after {width: 0;}#sk-947a1b12-2fb8-4096-a7a3-3a1af83114dd div.sk-dashed-wrapped {border: 1px dashed gray;margin: 0.2em;box-sizing: border-box;padding-bottom: 0.1em;background-color: white;position: relative;}#sk-947a1b12-2fb8-4096-a7a3-3a1af83114dd div.sk-label label {font-family: monospace;font-weight: bold;background-color: white;display: inline-block;line-height: 1.2em;}#sk-947a1b12-2fb8-4096-a7a3-3a1af83114dd div.sk-label-container {position: relative;z-index: 2;text-align: center;}#sk-947a1b12-2fb8-4096-a7a3-3a1af83114dd div.sk-container {display: inline-block;position: relative;}</style><div id=\"sk-947a1b12-2fb8-4096-a7a3-3a1af83114dd\" class\"sk-top-container\"><div class=\"sk-container\"><div class=\"sk-item\"><div class=\"sk-estimator sk-toggleable\"><input class=\"sk-toggleable__control sk-hidden--visually\" id=\"8c4df7ab-2385-4cce-8a7a-aa63bbbd1175\" type=\"checkbox\" checked><label class=\"sk-toggleable__label\" for=\"8c4df7ab-2385-4cce-8a7a-aa63bbbd1175\">IsolationForest</label><div class=\"sk-toggleable__content\"><pre>IsolationForest(contamination=0.01, n_estimators=1000)</pre></div></div></div></div></div>"
      ],
      "text/plain": [
       "IsolationForest(contamination=0.01, n_estimators=1000)"
      ]
     },
     "execution_count": 7,
     "metadata": {},
     "output_type": "execute_result"
    }
   ],
   "source": [
    "if_model = IsolationForest(n_estimators = 1000, contamination = 0.01)\n",
    "\n",
    "if_model"
   ]
  },
  {
   "cell_type": "code",
   "execution_count": 8,
   "id": "2915b635-7f5e-46bd-975a-1f71a88f8ebb",
   "metadata": {},
   "outputs": [
    {
     "data": {
      "text/html": [
       "<style>#sk-5670307c-5c04-493e-96aa-8e27fdd62d13 {color: black;background-color: white;}#sk-5670307c-5c04-493e-96aa-8e27fdd62d13 pre{padding: 0;}#sk-5670307c-5c04-493e-96aa-8e27fdd62d13 div.sk-toggleable {background-color: white;}#sk-5670307c-5c04-493e-96aa-8e27fdd62d13 label.sk-toggleable__label {cursor: pointer;display: block;width: 100%;margin-bottom: 0;padding: 0.2em 0.3em;box-sizing: border-box;text-align: center;}#sk-5670307c-5c04-493e-96aa-8e27fdd62d13 div.sk-toggleable__content {max-height: 0;max-width: 0;overflow: hidden;text-align: left;background-color: #f0f8ff;}#sk-5670307c-5c04-493e-96aa-8e27fdd62d13 div.sk-toggleable__content pre {margin: 0.2em;color: black;border-radius: 0.25em;background-color: #f0f8ff;}#sk-5670307c-5c04-493e-96aa-8e27fdd62d13 input.sk-toggleable__control:checked~div.sk-toggleable__content {max-height: 200px;max-width: 100%;overflow: auto;}#sk-5670307c-5c04-493e-96aa-8e27fdd62d13 div.sk-estimator input.sk-toggleable__control:checked~label.sk-toggleable__label {background-color: #d4ebff;}#sk-5670307c-5c04-493e-96aa-8e27fdd62d13 div.sk-label input.sk-toggleable__control:checked~label.sk-toggleable__label {background-color: #d4ebff;}#sk-5670307c-5c04-493e-96aa-8e27fdd62d13 input.sk-hidden--visually {border: 0;clip: rect(1px 1px 1px 1px);clip: rect(1px, 1px, 1px, 1px);height: 1px;margin: -1px;overflow: hidden;padding: 0;position: absolute;width: 1px;}#sk-5670307c-5c04-493e-96aa-8e27fdd62d13 div.sk-estimator {font-family: monospace;background-color: #f0f8ff;margin: 0.25em 0.25em;border: 1px dotted black;border-radius: 0.25em;box-sizing: border-box;}#sk-5670307c-5c04-493e-96aa-8e27fdd62d13 div.sk-estimator:hover {background-color: #d4ebff;}#sk-5670307c-5c04-493e-96aa-8e27fdd62d13 div.sk-parallel-item::after {content: \"\";width: 100%;border-bottom: 1px solid gray;flex-grow: 1;}#sk-5670307c-5c04-493e-96aa-8e27fdd62d13 div.sk-label:hover label.sk-toggleable__label {background-color: #d4ebff;}#sk-5670307c-5c04-493e-96aa-8e27fdd62d13 div.sk-serial::before {content: \"\";position: absolute;border-left: 1px solid gray;box-sizing: border-box;top: 2em;bottom: 0;left: 50%;}#sk-5670307c-5c04-493e-96aa-8e27fdd62d13 div.sk-serial {display: flex;flex-direction: column;align-items: center;background-color: white;}#sk-5670307c-5c04-493e-96aa-8e27fdd62d13 div.sk-item {z-index: 1;}#sk-5670307c-5c04-493e-96aa-8e27fdd62d13 div.sk-parallel {display: flex;align-items: stretch;justify-content: center;background-color: white;}#sk-5670307c-5c04-493e-96aa-8e27fdd62d13 div.sk-parallel-item {display: flex;flex-direction: column;position: relative;background-color: white;}#sk-5670307c-5c04-493e-96aa-8e27fdd62d13 div.sk-parallel-item:first-child::after {align-self: flex-end;width: 50%;}#sk-5670307c-5c04-493e-96aa-8e27fdd62d13 div.sk-parallel-item:last-child::after {align-self: flex-start;width: 50%;}#sk-5670307c-5c04-493e-96aa-8e27fdd62d13 div.sk-parallel-item:only-child::after {width: 0;}#sk-5670307c-5c04-493e-96aa-8e27fdd62d13 div.sk-dashed-wrapped {border: 1px dashed gray;margin: 0.2em;box-sizing: border-box;padding-bottom: 0.1em;background-color: white;position: relative;}#sk-5670307c-5c04-493e-96aa-8e27fdd62d13 div.sk-label label {font-family: monospace;font-weight: bold;background-color: white;display: inline-block;line-height: 1.2em;}#sk-5670307c-5c04-493e-96aa-8e27fdd62d13 div.sk-label-container {position: relative;z-index: 2;text-align: center;}#sk-5670307c-5c04-493e-96aa-8e27fdd62d13 div.sk-container {display: inline-block;position: relative;}</style><div id=\"sk-5670307c-5c04-493e-96aa-8e27fdd62d13\" class\"sk-top-container\"><div class=\"sk-container\"><div class=\"sk-item\"><div class=\"sk-estimator sk-toggleable\"><input class=\"sk-toggleable__control sk-hidden--visually\" id=\"99ae8e81-932c-43d9-9724-7b1e3392f3dd\" type=\"checkbox\" checked><label class=\"sk-toggleable__label\" for=\"99ae8e81-932c-43d9-9724-7b1e3392f3dd\">IsolationForest</label><div class=\"sk-toggleable__content\"><pre>IsolationForest(contamination=0.01, n_estimators=1000)</pre></div></div></div></div></div>"
      ],
      "text/plain": [
       "IsolationForest(contamination=0.01, n_estimators=1000)"
      ]
     },
     "execution_count": 8,
     "metadata": {},
     "output_type": "execute_result"
    }
   ],
   "source": [
    "if_model.fit(x_train)"
   ]
  },
  {
   "cell_type": "code",
   "execution_count": 9,
   "id": "76ea80c1-71f2-4cee-93f8-f3ad6a7381b6",
   "metadata": {},
   "outputs": [],
   "source": [
    "y_pred_train1 = if_model.predict(x_train)\n",
    "y_pred_test1 = if_model.predict(x_test)"
   ]
  },
  {
   "cell_type": "code",
   "execution_count": 10,
   "id": "8ccd5f31-7bd0-4769-8eb0-f309179a7bd9",
   "metadata": {},
   "outputs": [],
   "source": [
    "y_pred_train1 = np.where(y_pred_train1 == -1, 1, 0)\n",
    "y_pred_test1 = np.where(y_pred_test1 == -1, 1, 0)\n"
   ]
  },
  {
   "cell_type": "code",
   "execution_count": 11,
   "id": "5619619c-845b-4eba-91c4-6fdacc810bb8",
   "metadata": {},
   "outputs": [
    {
     "name": "stdout",
     "output_type": "stream",
     "text": [
      "Percentual de fraudes: 99.03\n"
     ]
    }
   ],
   "source": [
    "print(\"Percentual de fraudes: {}\".format(round(accuracy_score(y_train,y_pred_train1)*100, 2)))"
   ]
  },
  {
   "cell_type": "code",
   "execution_count": 12,
   "id": "3223713b-da47-4764-82a5-ca5d3251e862",
   "metadata": {},
   "outputs": [
    {
     "name": "stdout",
     "output_type": "stream",
     "text": [
      "Percentual de fraudes: 99.08\n"
     ]
    }
   ],
   "source": [
    "print(\"Percentual de fraudes: {}\".format(round(accuracy_score(y_test,y_pred_test1)*100, 2)))"
   ]
  },
  {
   "cell_type": "code",
   "execution_count": 13,
   "id": "ec111700-db17-49b2-b8e6-c7d9ed267704",
   "metadata": {},
   "outputs": [
    {
     "name": "stdout",
     "output_type": "stream",
     "text": [
      "Base de treinamento\n",
      "Percentual de fraudes: 99.03\n",
      "------------------------------\n",
      "Base de teste\n",
      "Percentual de fraudes: 99.08\n"
     ]
    }
   ],
   "source": [
    "print(\"Base de treinamento\")\n",
    "print(\"Percentual de fraudes: {}\".format(round(accuracy_score(y_train,y_pred_train1)*100, 2)))\n",
    "print(\"------------------------------\")\n",
    "print(\"Base de teste\")\n",
    "print(\"Percentual de fraudes: {}\".format(round(accuracy_score(y_test,y_pred_test1)*100, 2)))"
   ]
  },
  {
   "cell_type": "code",
   "execution_count": 14,
   "id": "2fa3410e-ab74-4a04-b5ae-7a56ca86997d",
   "metadata": {},
   "outputs": [
    {
     "name": "stdout",
     "output_type": "stream",
     "text": [
      "              precision    recall  f1-score   support\n",
      "\n",
      "           0       1.00      0.99      1.00    213236\n",
      "           1       0.10      0.60      0.18       369\n",
      "\n",
      "    accuracy                           0.99    213605\n",
      "   macro avg       0.55      0.80      0.59    213605\n",
      "weighted avg       1.00      0.99      0.99    213605\n",
      "\n"
     ]
    }
   ],
   "source": [
    "print(classification_report(y_train,y_pred_train1))"
   ]
  },
  {
   "cell_type": "code",
   "execution_count": 15,
   "id": "f1f3c15e-8122-4f87-9226-3b77dee73d14",
   "metadata": {},
   "outputs": [
    {
     "data": {
      "text/html": [
       "<div>\n",
       "<style scoped>\n",
       "    .dataframe tbody tr th:only-of-type {\n",
       "        vertical-align: middle;\n",
       "    }\n",
       "\n",
       "    .dataframe tbody tr th {\n",
       "        vertical-align: top;\n",
       "    }\n",
       "\n",
       "    .dataframe thead th {\n",
       "        text-align: right;\n",
       "    }\n",
       "</style>\n",
       "<table border=\"1\" class=\"dataframe\">\n",
       "  <thead>\n",
       "    <tr style=\"text-align: right;\">\n",
       "      <th>Predito pelo modelo</th>\n",
       "      <th>0</th>\n",
       "      <th>1</th>\n",
       "      <th>All</th>\n",
       "    </tr>\n",
       "    <tr>\n",
       "      <th>Verdadeiro</th>\n",
       "      <th></th>\n",
       "      <th></th>\n",
       "      <th></th>\n",
       "    </tr>\n",
       "  </thead>\n",
       "  <tbody>\n",
       "    <tr>\n",
       "      <th>0</th>\n",
       "      <td>211321</td>\n",
       "      <td>1915</td>\n",
       "      <td>213236</td>\n",
       "    </tr>\n",
       "    <tr>\n",
       "      <th>1</th>\n",
       "      <td>147</td>\n",
       "      <td>222</td>\n",
       "      <td>369</td>\n",
       "    </tr>\n",
       "    <tr>\n",
       "      <th>All</th>\n",
       "      <td>211468</td>\n",
       "      <td>2137</td>\n",
       "      <td>213605</td>\n",
       "    </tr>\n",
       "  </tbody>\n",
       "</table>\n",
       "</div>"
      ],
      "text/plain": [
       "Predito pelo modelo       0     1     All\n",
       "Verdadeiro                               \n",
       "0                    211321  1915  213236\n",
       "1                       147   222     369\n",
       "All                  211468  2137  213605"
      ]
     },
     "execution_count": 15,
     "metadata": {},
     "output_type": "execute_result"
    }
   ],
   "source": [
    "pd.crosstab(y_train.values.ravel(), y_pred_train1, rownames = [\"Verdadeiro\"], colnames = [\"Predito pelo modelo\"], margins = True)"
   ]
  },
  {
   "cell_type": "code",
   "execution_count": 16,
   "id": "5d685e0e-3420-4cc5-96cf-a34d6883894a",
   "metadata": {},
   "outputs": [
    {
     "data": {
      "text/html": [
       "<div>\n",
       "<style scoped>\n",
       "    .dataframe tbody tr th:only-of-type {\n",
       "        vertical-align: middle;\n",
       "    }\n",
       "\n",
       "    .dataframe tbody tr th {\n",
       "        vertical-align: top;\n",
       "    }\n",
       "\n",
       "    .dataframe thead th {\n",
       "        text-align: right;\n",
       "    }\n",
       "</style>\n",
       "<table border=\"1\" class=\"dataframe\">\n",
       "  <thead>\n",
       "    <tr style=\"text-align: right;\">\n",
       "      <th></th>\n",
       "      <th>0</th>\n",
       "    </tr>\n",
       "  </thead>\n",
       "  <tbody>\n",
       "    <tr>\n",
       "      <th>0</th>\n",
       "      <td>0.391054</td>\n",
       "    </tr>\n",
       "    <tr>\n",
       "      <th>1</th>\n",
       "      <td>0.395282</td>\n",
       "    </tr>\n",
       "    <tr>\n",
       "      <th>2</th>\n",
       "      <td>0.364650</td>\n",
       "    </tr>\n",
       "    <tr>\n",
       "      <th>3</th>\n",
       "      <td>0.367125</td>\n",
       "    </tr>\n",
       "    <tr>\n",
       "      <th>4</th>\n",
       "      <td>0.388283</td>\n",
       "    </tr>\n",
       "  </tbody>\n",
       "</table>\n",
       "</div>"
      ],
      "text/plain": [
       "          0\n",
       "0  0.391054\n",
       "1  0.395282\n",
       "2  0.364650\n",
       "3  0.367125\n",
       "4  0.388283"
      ]
     },
     "execution_count": 16,
     "metadata": {},
     "output_type": "execute_result"
    }
   ],
   "source": [
    "score_samples_if = pd.DataFrame(abs(if_model.score_samples(x_train)))\n",
    "\n",
    "score_samples_if.head()"
   ]
  },
  {
   "cell_type": "code",
   "execution_count": 17,
   "id": "fa8f471e-9816-46ee-9a89-30c6d1c7c327",
   "metadata": {},
   "outputs": [
    {
     "data": {
      "text/html": [
       "<div>\n",
       "<style scoped>\n",
       "    .dataframe tbody tr th:only-of-type {\n",
       "        vertical-align: middle;\n",
       "    }\n",
       "\n",
       "    .dataframe tbody tr th {\n",
       "        vertical-align: top;\n",
       "    }\n",
       "\n",
       "    .dataframe thead th {\n",
       "        text-align: right;\n",
       "    }\n",
       "</style>\n",
       "<table border=\"1\" class=\"dataframe\">\n",
       "  <thead>\n",
       "    <tr style=\"text-align: right;\">\n",
       "      <th></th>\n",
       "      <th>value</th>\n",
       "    </tr>\n",
       "  </thead>\n",
       "  <tbody>\n",
       "    <tr>\n",
       "      <th>0</th>\n",
       "      <td>0.391054</td>\n",
       "    </tr>\n",
       "    <tr>\n",
       "      <th>1</th>\n",
       "      <td>0.395282</td>\n",
       "    </tr>\n",
       "    <tr>\n",
       "      <th>2</th>\n",
       "      <td>0.364650</td>\n",
       "    </tr>\n",
       "    <tr>\n",
       "      <th>3</th>\n",
       "      <td>0.367125</td>\n",
       "    </tr>\n",
       "    <tr>\n",
       "      <th>4</th>\n",
       "      <td>0.388283</td>\n",
       "    </tr>\n",
       "  </tbody>\n",
       "</table>\n",
       "</div>"
      ],
      "text/plain": [
       "      value\n",
       "0  0.391054\n",
       "1  0.395282\n",
       "2  0.364650\n",
       "3  0.367125\n",
       "4  0.388283"
      ]
     },
     "execution_count": 17,
     "metadata": {},
     "output_type": "execute_result"
    }
   ],
   "source": [
    "score_samples_if1 = score_samples_if.rename(columns = {0 : \"value\"})\n",
    "\n",
    "score_samples_if1.head()"
   ]
  },
  {
   "cell_type": "code",
   "execution_count": 18,
   "id": "f686ebe8-a759-4f9c-ab8b-91860fd38e29",
   "metadata": {},
   "outputs": [
    {
     "data": {
      "text/plain": [
       "<AxesSubplot:ylabel='Frequency'>"
      ]
     },
     "execution_count": 18,
     "metadata": {},
     "output_type": "execute_result"
    },
    {
     "data": {
      "image/png": "[encoded data removed]",
      "text/plain": [
       "<Figure size 432x288 with 1 Axes>"
      ]
     },
     "metadata": {
      "needs_background": "light"
     },
     "output_type": "display_data"
    }
   ],
   "source": [
    "score_samples_if1.plot(kind = \"hist\")"
   ]
  },
  {
   "cell_type": "code",
   "execution_count": 19,
   "id": "b5708438-d933-44d0-bf92-935fb0ceec35",
   "metadata": {},
   "outputs": [
    {
     "data": {
      "text/plain": [
       "0    0.35053\n",
       "dtype: float64"
      ]
     },
     "execution_count": 19,
     "metadata": {},
     "output_type": "execute_result"
    }
   ],
   "source": [
    "score_samples_if.min()"
   ]
  },
  {
   "cell_type": "code",
   "execution_count": 20,
   "id": "7d584d48-5ff5-4178-8276-a920807b0c98",
   "metadata": {},
   "outputs": [
    {
     "data": {
      "text/plain": [
       "0    0.77165\n",
       "dtype: float64"
      ]
     },
     "execution_count": 20,
     "metadata": {},
     "output_type": "execute_result"
    }
   ],
   "source": [
    "score_samples_if.max()"
   ]
  },
  {
   "cell_type": "code",
   "execution_count": 21,
   "id": "666c2a01-26d7-4338-a601-6ba22c785484",
   "metadata": {},
   "outputs": [
    {
     "data": {
      "text/plain": [
       "-0.5743822631493328"
      ]
     },
     "execution_count": 21,
     "metadata": {},
     "output_type": "execute_result"
    }
   ],
   "source": [
    "if_model.offset_"
   ]
  },
  {
   "cell_type": "code",
   "execution_count": 22,
   "id": "b8e0e419-9776-461d-b20e-c0760b548188",
   "metadata": {},
   "outputs": [],
   "source": [
    "scaler = MinMaxScaler()"
   ]
  },
  {
   "cell_type": "code",
   "execution_count": 23,
   "id": "add5bbb2-d456-438f-80fb-a7b77f69c051",
   "metadata": {},
   "outputs": [
    {
     "data": {
      "text/html": [
       "<div>\n",
       "<style scoped>\n",
       "    .dataframe tbody tr th:only-of-type {\n",
       "        vertical-align: middle;\n",
       "    }\n",
       "\n",
       "    .dataframe tbody tr th {\n",
       "        vertical-align: top;\n",
       "    }\n",
       "\n",
       "    .dataframe thead th {\n",
       "        text-align: right;\n",
       "    }\n",
       "</style>\n",
       "<table border=\"1\" class=\"dataframe\">\n",
       "  <thead>\n",
       "    <tr style=\"text-align: right;\">\n",
       "      <th></th>\n",
       "      <th>value</th>\n",
       "      <th>value_norm</th>\n",
       "    </tr>\n",
       "  </thead>\n",
       "  <tbody>\n",
       "    <tr>\n",
       "      <th>0</th>\n",
       "      <td>0.391054</td>\n",
       "      <td>0.096230</td>\n",
       "    </tr>\n",
       "    <tr>\n",
       "      <th>1</th>\n",
       "      <td>0.395282</td>\n",
       "      <td>0.106269</td>\n",
       "    </tr>\n",
       "    <tr>\n",
       "      <th>2</th>\n",
       "      <td>0.364650</td>\n",
       "      <td>0.033530</td>\n",
       "    </tr>\n",
       "    <tr>\n",
       "      <th>3</th>\n",
       "      <td>0.367125</td>\n",
       "      <td>0.039407</td>\n",
       "    </tr>\n",
       "    <tr>\n",
       "      <th>4</th>\n",
       "      <td>0.388283</td>\n",
       "      <td>0.089650</td>\n",
       "    </tr>\n",
       "  </tbody>\n",
       "</table>\n",
       "</div>"
      ],
      "text/plain": [
       "      value  value_norm\n",
       "0  0.391054    0.096230\n",
       "1  0.395282    0.106269\n",
       "2  0.364650    0.033530\n",
       "3  0.367125    0.039407\n",
       "4  0.388283    0.089650"
      ]
     },
     "execution_count": 23,
     "metadata": {},
     "output_type": "execute_result"
    }
   ],
   "source": [
    "score_samples_if1[\"value_norm\"] = scaler.fit_transform(score_samples_if1)\n",
    "\n",
    "score_samples_if1.head()"
   ]
  },
  {
   "cell_type": "code",
   "execution_count": 24,
   "id": "ea78ef90-f4b2-4353-9251-d74a8309e13e",
   "metadata": {},
   "outputs": [
    {
     "data": {
      "image/png": "[encoded data removed]",
      "text/plain": [
       "<Figure size 432x288 with 1 Axes>"
      ]
     },
     "metadata": {
      "needs_background": "light"
     },
     "output_type": "display_data"
    }
   ],
   "source": [
    "_ = score_samples_if1.plot(kind = \"hist\")"
   ]
  },
  {
   "cell_type": "code",
   "execution_count": 25,
   "id": "8b5eb614-a5b3-4d3d-9398-ebd48f6fadf9",
   "metadata": {},
   "outputs": [
    {
     "data": {
      "text/html": [
       "<div>\n",
       "<style scoped>\n",
       "    .dataframe tbody tr th:only-of-type {\n",
       "        vertical-align: middle;\n",
       "    }\n",
       "\n",
       "    .dataframe tbody tr th {\n",
       "        vertical-align: top;\n",
       "    }\n",
       "\n",
       "    .dataframe thead th {\n",
       "        text-align: right;\n",
       "    }\n",
       "</style>\n",
       "<table border=\"1\" class=\"dataframe\">\n",
       "  <thead>\n",
       "    <tr style=\"text-align: right;\">\n",
       "      <th></th>\n",
       "      <th>value</th>\n",
       "      <th>value_norm</th>\n",
       "    </tr>\n",
       "  </thead>\n",
       "  <tbody>\n",
       "    <tr>\n",
       "      <th>76461</th>\n",
       "      <td>0.731499</td>\n",
       "      <td>0.904657</td>\n",
       "    </tr>\n",
       "    <tr>\n",
       "      <th>94130</th>\n",
       "      <td>0.732775</td>\n",
       "      <td>0.907688</td>\n",
       "    </tr>\n",
       "    <tr>\n",
       "      <th>179276</th>\n",
       "      <td>0.733110</td>\n",
       "      <td>0.908483</td>\n",
       "    </tr>\n",
       "    <tr>\n",
       "      <th>124773</th>\n",
       "      <td>0.733228</td>\n",
       "      <td>0.908763</td>\n",
       "    </tr>\n",
       "    <tr>\n",
       "      <th>92329</th>\n",
       "      <td>0.737366</td>\n",
       "      <td>0.918589</td>\n",
       "    </tr>\n",
       "    <tr>\n",
       "      <th>11908</th>\n",
       "      <td>0.739495</td>\n",
       "      <td>0.923644</td>\n",
       "    </tr>\n",
       "    <tr>\n",
       "      <th>76958</th>\n",
       "      <td>0.739512</td>\n",
       "      <td>0.923685</td>\n",
       "    </tr>\n",
       "    <tr>\n",
       "      <th>69542</th>\n",
       "      <td>0.742264</td>\n",
       "      <td>0.930219</td>\n",
       "    </tr>\n",
       "    <tr>\n",
       "      <th>152668</th>\n",
       "      <td>0.743137</td>\n",
       "      <td>0.932293</td>\n",
       "    </tr>\n",
       "    <tr>\n",
       "      <th>64740</th>\n",
       "      <td>0.743999</td>\n",
       "      <td>0.934341</td>\n",
       "    </tr>\n",
       "    <tr>\n",
       "      <th>41563</th>\n",
       "      <td>0.748351</td>\n",
       "      <td>0.944675</td>\n",
       "    </tr>\n",
       "    <tr>\n",
       "      <th>89108</th>\n",
       "      <td>0.749433</td>\n",
       "      <td>0.947244</td>\n",
       "    </tr>\n",
       "    <tr>\n",
       "      <th>213596</th>\n",
       "      <td>0.750145</td>\n",
       "      <td>0.948934</td>\n",
       "    </tr>\n",
       "    <tr>\n",
       "      <th>78160</th>\n",
       "      <td>0.753991</td>\n",
       "      <td>0.958066</td>\n",
       "    </tr>\n",
       "    <tr>\n",
       "      <th>14171</th>\n",
       "      <td>0.771650</td>\n",
       "      <td>1.000000</td>\n",
       "    </tr>\n",
       "  </tbody>\n",
       "</table>\n",
       "</div>"
      ],
      "text/plain": [
       "           value  value_norm\n",
       "76461   0.731499    0.904657\n",
       "94130   0.732775    0.907688\n",
       "179276  0.733110    0.908483\n",
       "124773  0.733228    0.908763\n",
       "92329   0.737366    0.918589\n",
       "11908   0.739495    0.923644\n",
       "76958   0.739512    0.923685\n",
       "69542   0.742264    0.930219\n",
       "152668  0.743137    0.932293\n",
       "64740   0.743999    0.934341\n",
       "41563   0.748351    0.944675\n",
       "89108   0.749433    0.947244\n",
       "213596  0.750145    0.948934\n",
       "78160   0.753991    0.958066\n",
       "14171   0.771650    1.000000"
      ]
     },
     "execution_count": 25,
     "metadata": {},
     "output_type": "execute_result"
    }
   ],
   "source": [
    "score_samples_if1[score_samples_if1[\"value_norm\"] > 0.9].sort_values(by = \"value_norm\")"
   ]
  },
  {
   "cell_type": "code",
   "execution_count": 26,
   "id": "e4eee7c7-2e3b-45d3-ba1b-2a6b90f56306",
   "metadata": {},
   "outputs": [
    {
     "data": {
      "text/plain": [
       "Time      142019.000000\n",
       "V1           -37.558067\n",
       "V2           -29.335992\n",
       "V3           -24.962322\n",
       "V4             8.413616\n",
       "V5           -35.182120\n",
       "V6            21.550496\n",
       "V7            36.877368\n",
       "V8            -8.915982\n",
       "V9             5.046566\n",
       "V10            0.909474\n",
       "V11            3.919686\n",
       "V12           -0.384260\n",
       "V13            4.316156\n",
       "V14           -3.113694\n",
       "V15            5.667667\n",
       "V16            8.289890\n",
       "V17           -2.490935\n",
       "V18           -3.570907\n",
       "V19            1.663899\n",
       "V20          -28.009635\n",
       "V21          -11.263235\n",
       "V22           -1.150828\n",
       "V23           -7.800902\n",
       "V24            1.272716\n",
       "V25            1.965365\n",
       "V26            0.767817\n",
       "V27            3.248189\n",
       "V28           13.013546\n",
       "Amount      5964.950000\n",
       "Name: 220090, dtype: float64"
      ]
     },
     "execution_count": 26,
     "metadata": {},
     "output_type": "execute_result"
    }
   ],
   "source": [
    "x_train.iloc[41563,]"
   ]
  },
  {
   "cell_type": "code",
   "execution_count": 27,
   "id": "6e02692f-1c20-4220-8f64-32e823e8d87d",
   "metadata": {},
   "outputs": [
    {
     "data": {
      "text/html": [
       "<div>\n",
       "<style scoped>\n",
       "    .dataframe tbody tr th:only-of-type {\n",
       "        vertical-align: middle;\n",
       "    }\n",
       "\n",
       "    .dataframe tbody tr th {\n",
       "        vertical-align: top;\n",
       "    }\n",
       "\n",
       "    .dataframe thead th {\n",
       "        text-align: right;\n",
       "    }\n",
       "</style>\n",
       "<table border=\"1\" class=\"dataframe\">\n",
       "  <thead>\n",
       "    <tr style=\"text-align: right;\">\n",
       "      <th></th>\n",
       "      <th>Time</th>\n",
       "      <th>V1</th>\n",
       "      <th>V2</th>\n",
       "      <th>V3</th>\n",
       "      <th>V4</th>\n",
       "      <th>V5</th>\n",
       "      <th>V6</th>\n",
       "      <th>V7</th>\n",
       "      <th>V8</th>\n",
       "      <th>V9</th>\n",
       "      <th>...</th>\n",
       "      <th>V21</th>\n",
       "      <th>V22</th>\n",
       "      <th>V23</th>\n",
       "      <th>V24</th>\n",
       "      <th>V25</th>\n",
       "      <th>V26</th>\n",
       "      <th>V27</th>\n",
       "      <th>V28</th>\n",
       "      <th>Amount</th>\n",
       "      <th>Class</th>\n",
       "    </tr>\n",
       "  </thead>\n",
       "  <tbody>\n",
       "    <tr>\n",
       "      <th>220088</th>\n",
       "      <td>142019.0</td>\n",
       "      <td>0.065125</td>\n",
       "      <td>1.089234</td>\n",
       "      <td>-0.788752</td>\n",
       "      <td>0.362093</td>\n",
       "      <td>1.968970</td>\n",
       "      <td>-0.986444</td>\n",
       "      <td>1.998324</td>\n",
       "      <td>-0.636687</td>\n",
       "      <td>-0.771849</td>\n",
       "      <td>...</td>\n",
       "      <td>0.312959</td>\n",
       "      <td>1.163819</td>\n",
       "      <td>-0.634386</td>\n",
       "      <td>-0.753189</td>\n",
       "      <td>0.411180</td>\n",
       "      <td>-0.183214</td>\n",
       "      <td>-0.023765</td>\n",
       "      <td>-0.065342</td>\n",
       "      <td>1.00</td>\n",
       "      <td>0</td>\n",
       "    </tr>\n",
       "    <tr>\n",
       "      <th>220089</th>\n",
       "      <td>142019.0</td>\n",
       "      <td>-1.555130</td>\n",
       "      <td>-0.998918</td>\n",
       "      <td>0.978737</td>\n",
       "      <td>1.090221</td>\n",
       "      <td>1.313982</td>\n",
       "      <td>0.135721</td>\n",
       "      <td>-0.184102</td>\n",
       "      <td>0.360106</td>\n",
       "      <td>0.019500</td>\n",
       "      <td>...</td>\n",
       "      <td>-0.161301</td>\n",
       "      <td>-0.202977</td>\n",
       "      <td>1.284539</td>\n",
       "      <td>0.164964</td>\n",
       "      <td>-0.610922</td>\n",
       "      <td>-0.866827</td>\n",
       "      <td>0.272226</td>\n",
       "      <td>0.124648</td>\n",
       "      <td>34.95</td>\n",
       "      <td>0</td>\n",
       "    </tr>\n",
       "    <tr>\n",
       "      <th>220090</th>\n",
       "      <td>142019.0</td>\n",
       "      <td>-37.558067</td>\n",
       "      <td>-29.335992</td>\n",
       "      <td>-24.962322</td>\n",
       "      <td>8.413616</td>\n",
       "      <td>-35.182120</td>\n",
       "      <td>21.550496</td>\n",
       "      <td>36.877368</td>\n",
       "      <td>-8.915982</td>\n",
       "      <td>5.046566</td>\n",
       "      <td>...</td>\n",
       "      <td>-11.263235</td>\n",
       "      <td>-1.150828</td>\n",
       "      <td>-7.800902</td>\n",
       "      <td>1.272716</td>\n",
       "      <td>1.965365</td>\n",
       "      <td>0.767817</td>\n",
       "      <td>3.248189</td>\n",
       "      <td>13.013546</td>\n",
       "      <td>5964.95</td>\n",
       "      <td>0</td>\n",
       "    </tr>\n",
       "    <tr>\n",
       "      <th>220091</th>\n",
       "      <td>142019.0</td>\n",
       "      <td>1.815724</td>\n",
       "      <td>-2.223878</td>\n",
       "      <td>-1.127500</td>\n",
       "      <td>-1.580004</td>\n",
       "      <td>-1.306369</td>\n",
       "      <td>0.211408</td>\n",
       "      <td>-1.120743</td>\n",
       "      <td>0.015701</td>\n",
       "      <td>-1.295542</td>\n",
       "      <td>...</td>\n",
       "      <td>0.022084</td>\n",
       "      <td>0.002238</td>\n",
       "      <td>0.039235</td>\n",
       "      <td>0.279890</td>\n",
       "      <td>-0.345998</td>\n",
       "      <td>-0.225234</td>\n",
       "      <td>-0.023660</td>\n",
       "      <td>-0.011814</td>\n",
       "      <td>247.20</td>\n",
       "      <td>0</td>\n",
       "    </tr>\n",
       "    <tr>\n",
       "      <th>220092</th>\n",
       "      <td>142019.0</td>\n",
       "      <td>1.988996</td>\n",
       "      <td>-0.356116</td>\n",
       "      <td>-0.392539</td>\n",
       "      <td>0.399902</td>\n",
       "      <td>-0.467295</td>\n",
       "      <td>-0.152771</td>\n",
       "      <td>-0.599601</td>\n",
       "      <td>-0.013016</td>\n",
       "      <td>1.334036</td>\n",
       "      <td>...</td>\n",
       "      <td>0.194558</td>\n",
       "      <td>0.821004</td>\n",
       "      <td>0.138948</td>\n",
       "      <td>0.779871</td>\n",
       "      <td>-0.043499</td>\n",
       "      <td>-0.249151</td>\n",
       "      <td>0.042157</td>\n",
       "      <td>-0.027905</td>\n",
       "      <td>9.99</td>\n",
       "      <td>0</td>\n",
       "    </tr>\n",
       "  </tbody>\n",
       "</table>\n",
       "<p>5 rows × 31 columns</p>\n",
       "</div>"
      ],
      "text/plain": [
       "            Time         V1         V2         V3        V4         V5  \\\n",
       "220088  142019.0   0.065125   1.089234  -0.788752  0.362093   1.968970   \n",
       "220089  142019.0  -1.555130  -0.998918   0.978737  1.090221   1.313982   \n",
       "220090  142019.0 -37.558067 -29.335992 -24.962322  8.413616 -35.182120   \n",
       "220091  142019.0   1.815724  -2.223878  -1.127500 -1.580004  -1.306369   \n",
       "220092  142019.0   1.988996  -0.356116  -0.392539  0.399902  -0.467295   \n",
       "\n",
       "               V6         V7        V8        V9  ...        V21       V22  \\\n",
       "220088  -0.986444   1.998324 -0.636687 -0.771849  ...   0.312959  1.163819   \n",
       "220089   0.135721  -0.184102  0.360106  0.019500  ...  -0.161301 -0.202977   \n",
       "220090  21.550496  36.877368 -8.915982  5.046566  ... -11.263235 -1.150828   \n",
       "220091   0.211408  -1.120743  0.015701 -1.295542  ...   0.022084  0.002238   \n",
       "220092  -0.152771  -0.599601 -0.013016  1.334036  ...   0.194558  0.821004   \n",
       "\n",
       "             V23       V24       V25       V26       V27        V28   Amount  \\\n",
       "220088 -0.634386 -0.753189  0.411180 -0.183214 -0.023765  -0.065342     1.00   \n",
       "220089  1.284539  0.164964 -0.610922 -0.866827  0.272226   0.124648    34.95   \n",
       "220090 -7.800902  1.272716  1.965365  0.767817  3.248189  13.013546  5964.95   \n",
       "220091  0.039235  0.279890 -0.345998 -0.225234 -0.023660  -0.011814   247.20   \n",
       "220092  0.138948  0.779871 -0.043499 -0.249151  0.042157  -0.027905     9.99   \n",
       "\n",
       "        Class  \n",
       "220088      0  \n",
       "220089      0  \n",
       "220090      0  \n",
       "220091      0  \n",
       "220092      0  \n",
       "\n",
       "[5 rows x 31 columns]"
      ]
     },
     "execution_count": 27,
     "metadata": {},
     "output_type": "execute_result"
    }
   ],
   "source": [
    "dados[dados[\"Time\"] == 142019.000000]"
   ]
  }
 ],
 "metadata": {
  "kernelspec": {
   "display_name": "Python 3",
   "language": "python",
   "name": "python3"
  },
  "language_info": {
   "codemirror_mode": {
    "name": "ipython",
    "version": 3
   },
   "file_extension": ".py",
   "mimetype": "text/x-python",
   "name": "python",
   "nbconvert_exporter": "python",
   "pygments_lexer": "ipython3",
   "version": "3.8.5"
  }
 },
 "nbformat": 4,
 "nbformat_minor": 5
}
